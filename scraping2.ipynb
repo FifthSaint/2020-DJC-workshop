{
 "cells": [
  {
   "cell_type": "markdown",
   "metadata": {},
   "source": [
    "Created on 26 Oct 2020\n",
    "DJKC 워크숍 이후\n",
    "\n",
    "ㅇ과제: 포털 네이버에서 가장 많이 본 기사  \n",
    "였으나.. 네이버가 기막힌 타이밍에 해당 사이트 구조를 바꾸는 바람에 작동 안함.  \n",
    "새로운 네이버 많이 본 기사의 경우 아직 제대로 된 서비스 전이라   \n",
    "파이썬 활용 스크래핑 예시 주제로 트립어드바이저 [세계 Top 25 호텔](https://www.tripadvisor.com/TravelersChoice-Hotels)의 댓글을 긁어오기 코드를 제공해 드립니다  \n",
    "(참조로 트립어드바이저 스크래핑은 제가 강의하는 건국대 수업에서 나온 프로젝트입니다)  \n",
    "  \n",
    "*전문 개발자가 아니라 코드가 잘 짜여졌다고 하기 어려울 수 있으나 저널리즘 측면에서 활용과 학습용으로서 봐주십시오*  \n",
    "\n",
    "@author: Osung"
   ]
  },
  {
   "cell_type": "code",
   "execution_count": 1,
   "metadata": {},
   "outputs": [],
   "source": [
    "from selenium import webdriver\n",
    "from selenium.common.exceptions import UnexpectedAlertPresentException \n",
    "from selenium.webdriver.support.ui import WebDriverWait\n",
    "from bs4 import BeautifulSoup\n",
    "import pandas as pd"
   ]
  },
  {
   "cell_type": "code",
   "execution_count": 2,
   "metadata": {},
   "outputs": [],
   "source": [
    "browser = webdriver.Chrome() #코딩으로 콘트롤 하는 웹브라우저"
   ]
  },
  {
   "cell_type": "code",
   "execution_count": 3,
   "metadata": {},
   "outputs": [],
   "source": [
    "# html 파싱 함수 정의 \n",
    "def parser(url):\n",
    "    try: \n",
    "        browser.get(url)\n",
    "    except UnexpectedAlertPresentException:  #될 때가 있고 안 될 때가 있음. 예외적인 경우를 위한 코드\n",
    "        print(\"alert\")\n",
    "        time.sleep(1)\n",
    "        alert = browser.switch_to.alert\n",
    "        time.sleep(1)\n",
    "        alert.accept()\n",
    "        time.sleep(1)\n",
    "        WebDriverWait(browser, 5)\n",
    "    HTML = browser.execute_script(\"return document.body.innerHTML\")\n",
    "    return BeautifulSoup(HTML, 'html.parser')"
   ]
  },
  {
   "cell_type": "code",
   "execution_count": 4,
   "metadata": {},
   "outputs": [],
   "source": [
    "#사전 테스트를 위한 페이지 주소\n",
    "test_hotel = 'https://www.tripadvisor.com/Hotel_Review-g297390-d9514361-Reviews-Viroth_s_Hotel-Siem_Reap_Siem_Reap_Province.html'\n",
    "rev1 = 'https://www.tripadvisor.com/Hotel_Review-g297390-d9514361-Reviews-Viroth_s_Hotel-Siem_Reap_Siem_Reap_Province.html#REVIEWS'\n",
    "rev2 = 'https://www.tripadvisor.com/Hotel_Review-g297390-d9514361-Reviews-or5-Viroth_s_Hotel-Siem_Reap_Siem_Reap_Province.html#REVIEWS'\n",
    "rev3 = 'https://www.tripadvisor.com/Hotel_Review-g297390-d9514361-Reviews-or10-Viroth_s_Hotel-Siem_Reap_Siem_Reap_Province.html#REVIEWS'"
   ]
  },
  {
   "cell_type": "code",
   "execution_count": 5,
   "metadata": {},
   "outputs": [],
   "source": [
    "parsed = parser(rev1)"
   ]
  },
  {
   "cell_type": "markdown",
   "metadata": {},
   "source": [
    "## 한 페이지에서 크롤링\n",
    "예시 페이지(rev1)을 보면 한 페이지에 리뷰가 5개씩 있는 것을 볼 수 있습니다.  \n",
    "먼저 한 페이지의 리뷰를 가져오는 것이 목표.  \n",
    "이를 위해 다시 각 리뷰의 요소들을 하나씩 가져오는 테스트를 합니다  \n",
    "본 코드에선 리뷰의 이름, 날짜, 제목, 내용을 가져오겠습니다"
   ]
  },
  {
   "cell_type": "code",
   "execution_count": 7,
   "metadata": {},
   "outputs": [
    {
     "name": "stdout",
     "output_type": "stream",
     "text": [
      "['하늘사랑', 'Baron de Richebourg', 'Spar19', '영주 이', 'forrest H']\n"
     ]
    }
   ],
   "source": [
    "#리뷰어 이름 셀렉트 테스트\n",
    "a = parsed.select('.ui_header_link')\n",
    "names = list()\n",
    "for item in a:\n",
    "    names.append(item.text.strip())\n",
    "print(names)"
   ]
  },
  {
   "cell_type": "code",
   "execution_count": 6,
   "metadata": {},
   "outputs": [
    {
     "name": "stdout",
     "output_type": "stream",
     "text": [
      "wiseleaf\n",
      "연주 박\n",
      "Kywn\n",
      "윤윤윤\n",
      "j0yy0ung\n"
     ]
    }
   ],
   "source": [
    "#다음 리뷰 페이지 작동 확인\n",
    "parsed2 = parser(rev2)\n",
    "a2 = parsed2.select('.ui_header_link')\n",
    "for item in a2:\n",
    "    print(item.text.strip())"
   ]
  },
  {
   "cell_type": "code",
   "execution_count": 8,
   "metadata": {},
   "outputs": [
    {
     "name": "stdout",
     "output_type": "stream",
     "text": [
      "2020년 1월\n",
      "2019년 12월\n",
      "2019년 6월\n",
      "2018년 9월\n",
      "2018년 8월\n"
     ]
    }
   ],
   "source": [
    "#날짜 셀렉트\n",
    "_date = parsed.select('._2fxQ4TOx span')\n",
    "for item in _date:\n",
    "    print(item.text.strip()[-9:].strip())"
   ]
  },
  {
   "cell_type": "code",
   "execution_count": 9,
   "metadata": {},
   "outputs": [
    {
     "name": "stdout",
     "output_type": "stream",
     "text": [
      "최고의 서비스 호텔\n",
      "작지만 아름답고 훌륭한 호텔\n",
      "정말정말 좋아요\n",
      "최고의 인생호텔\n",
      "일년이 지나도 잊히지 않는 그곳.\n"
     ]
    }
   ],
   "source": [
    "#제목\n",
    "titles = parsed.select('div.glasR4aX a span span')\n",
    "for item in titles:\n",
    "    print(item.text.strip())"
   ]
  },
  {
   "cell_type": "code",
   "execution_count": 10,
   "metadata": {},
   "outputs": [
    {
     "name": "stdout",
     "output_type": "stream",
     "text": [
      "수영장에서 느긋하게 즐기는 여행, 직원이 엄청 친절하더군요. 프로모션으로 식사 1회,  마사지 1회, 툭툭이 서비스 이용권이 있었는데, 아주 편하게 여행했네요. 호텔 공홈에서 패키지 여행하는 것이 저렴한 경우가 많으니 가격 비교하시면서 예약하세요. 예약처리 절차도 아주 친절하게 안내 잘 해 주더군요\n",
      "그동안 씨엠립에서 머물 때는 항상 파크하얏트에만 머물렀는데, 이제는 머무는 호텔을 여기로 바꾸어야 할 것 같습니다. 그야말로 작지만 아주 훌륭한 호텔입니다. 직원들은 친절하고, 구석구석 신경을 아주 많이 쓴 티가 납니다. 잘 관리되고 있는 호텔이지요. 게다가 픽업과 센딩 서비스를 이용했는데, 역시 잘 관리된 구형 롤스로이스 팬텀을 사용하더군요. 씨엠립에는 이만한 호텔이 없는 것 같습니다. 최고의 호텔 입니다.\n",
      "우선 너무 아름다운 호텔입니다 직원들은 너무 친절하고 곳곳에 신경쓴 티가 나요. 생각지 못했던 부분에 먼저 신경써놓은 게 느껴집니다.\n",
      "전 직업상 세계 수많은호텔을 경험하고 평가합니다 호텔을선택할때 깐깐하게 보는 편이기도 합니다 작은호텔이라 걱정을 왜 했는지 모르겠습니다 온라인상 후기 처음 써봅니다 안쓸수가 없습니다 훌륭한 응대 친절한직원 깔끔한객실 작지만 충분한수영장 호텔의 수준을 결정하는 맛있는 조식! 가까운입지 포함된 송영서비스  그것도 클래식카 전 벤츠인 줄알았더니 롤스로이스더군요 모든것이 다 갖춘 호텔은 흔치않은데 여기가 그랬습니다 누군지는 몰라도 훌륭한 시설과 관리 그리고 직원교육을 하셨더라고요 씨엠립에서 휴양 잘했습니다 감사합니다\n",
      "우선 모든 직원들이 친절했고, 조식 참 좋았습니다. 그리거 이 비로스 호텔 때문에 다시 시엠립에ㅡ가고 싶을 정도니까요!  룸 컨디션 정말 깨끗했고 프랑스 풍이 나껴졌어요 수영장은 크지는 않지만 정말 깨끗하게 유지되고 있었어요 추억이 새록새록 다시 방문하기 위해 검색하다가 확실히 다시 가게 될것만 같어요 재방문 의사100%\n"
     ]
    }
   ],
   "source": [
    "#내용\n",
    "contents = parsed.select('q.IRsGHoPm')\n",
    "for item in contents:\n",
    "    print(item.text.strip())"
   ]
  },
  {
   "cell_type": "code",
   "execution_count": 19,
   "metadata": {},
   "outputs": [],
   "source": [
    "# 해당 부분을 가져오는 함수\n",
    "def get_part(parsed, selector):\n",
    "    _a = parsed.select(selector)\n",
    "    a = list()\n",
    "    for item in _a:\n",
    "        a.append(item.text.strip())\n",
    "    return a"
   ]
  },
  {
   "cell_type": "code",
   "execution_count": 15,
   "metadata": {},
   "outputs": [],
   "source": [
    "# 각 파트별 셀렉터\n",
    "selector = {\n",
    "    'name': '.ui_header_link',\n",
    "    'date': '._2fxQ4TOx span',\n",
    "    'title': 'div.glasR4aX a span span',\n",
    "    'content': 'q.IRsGHoPm'\n",
    "}"
   ]
  },
  {
   "cell_type": "code",
   "execution_count": 20,
   "metadata": {},
   "outputs": [],
   "source": [
    "# 결합\n",
    "names = get_part(parsed, selector['name'])\n",
    "dates = get_part(parsed, selector['date'])\n",
    "dates = [x[-9:].strip() for x in dates] #날짜 경우 추가 정리 \n",
    "titles = get_part(parsed, selector['title'])\n",
    "contents = get_part(parsed, selector['content'])\n",
    "df = pd.DataFrame(columns = list(['이름', '날짜', '제목', '내용']))\n",
    "df = df.assign(이름=names, 날짜=dates, 제목=titles, 내용=contents)"
   ]
  },
  {
   "cell_type": "markdown",
   "metadata": {},
   "source": [
    "## 한 호텔의 여러 페이지 스크래핑\n",
    "5개 리뷰의 한 페이지가 작동함을 확인  \n",
    "이제 리뷰 페이지를 순서대로 따라가면서 각 페이지별 5개 리뷰를 차례로 스크래핑  \n",
    "이를 위해선 먼저 한 호텔의 총 리뷰 숫자가 몇 개인지,   \n",
    "각 페이지가 이를 바탕으로 어떤 주소로 바뀌는지 파악할 필요가 있습니다"
   ]
  },
  {
   "cell_type": "code",
   "execution_count": 23,
   "metadata": {},
   "outputs": [
    {
     "data": {
      "text/plain": [
       "2080"
      ]
     },
     "execution_count": 23,
     "metadata": {},
     "output_type": "execute_result"
    }
   ],
   "source": [
    "#한 호텔의 총 리뷰 숫자 파악 테스트\n",
    "_tot_num = parsed.select('span._1aRY8Wbl')\n",
    "tot_num = int(_tot_num[0].text.strip().replace(',',''))\n",
    "tot_num"
   ]
  },
  {
   "cell_type": "markdown",
   "metadata": {},
   "source": [
    "## 페이지 링크\n",
    "리뷰 페이지 링크 주소를 보면 다음과 같습니다  \n",
    "첫 페이지 'https://www.tripadvisor.com/Hotel_Review-g297390-d9514361-Reviews-Viroth_s_Hotel-Siem_Reap_Siem_Reap_Province.html#REVIEWS'  \n",
    "둘째 'https://www.tripadvisor.com/Hotel_Review-g297390-d9514361-Reviews-or5-Viroth_s_Hotel-Siem_Reap_Siem_Reap_Province.html#REVIEWS'  \n",
    "셋째 'https://www.tripadvisor.com/Hotel_Review-g297390-d9514361-Reviews-or10-Viroth_s_Hotel-Siem_Reap_Siem_Reap_Province.html#REVIEWS'\n",
    "\n",
    "끝 'https://www.tripadvisor.ca/Hotel_Review-g297390-d9514361-Reviews-or2075-Viroth_s_Hotel-Siem_Reap_Siem_Reap_Province.html#REVIEWS' \n",
    "\n",
    "어떤 원칙으로 주소가 바뀌는지 살펴보시면 중간에 'or(숫자)'에서 숫자가 5 단위로 증가하면서 주소가 바뀌는 것을 알 수 있습니다 "
   ]
  },
  {
   "cell_type": "code",
   "execution_count": null,
   "metadata": {},
   "outputs": [],
   "source": [
    "# 이를 바탕으로 한 호텔의 리뷰 전체 스크래핑하는 루프 작성\n",
    "URL1 = 'https://www.tripadvisor.com/Hotel_Review-g297390-d9514361-Reviews-'\n",
    "URL2 = 'Viroth_s_Hotel-Siem_Reap_Siem_Reap_Province.html#REVIEWS'\n",
    "URL = URL1+URL2\n",
    "\n",
    "df = pd.DataFrame(columns=['이름', '날짜', '제목', '내용'])\n",
    "i = 0\n",
    "\n",
    "while i<tot_num:\n",
    "    parsed = parser(URL)\n",
    "    \n",
    "    names = get_part(parsed, selector['name'])\n",
    "    dates = get_part(parsed, selector['date'])\n",
    "    dates = [x[-9:].strip() for x in dates]\n",
    "    titles = get_part(parsed, selector['title'])\n",
    "    contents = get_part(parsed, selector['content'])\n",
    "    \n",
    "    _df = pd.DataFrame(list(zip(names, dates, titles, contents)), columns=['이름', '날짜', '제목', '내용'])\n",
    "    df = pd.concat([df, _df])\n",
    "    \n",
    "    i += 5 # i = i + 5\n",
    "    URL = URL1+'or'+str(i)+'-'+URL2"
   ]
  },
  {
   "cell_type": "code",
   "execution_count": 28,
   "metadata": {},
   "outputs": [],
   "source": [
    "df.reset_index().to_csv('result.csv', encoding='utf-8-sig') # csv 파일로 저장"
   ]
  }
 ],
 "metadata": {
  "kernelspec": {
   "display_name": "Python 3",
   "language": "python",
   "name": "python3"
  },
  "language_info": {
   "codemirror_mode": {
    "name": "ipython",
    "version": 3
   },
   "file_extension": ".py",
   "mimetype": "text/x-python",
   "name": "python",
   "nbconvert_exporter": "python",
   "pygments_lexer": "ipython3",
   "version": "3.7.5"
  }
 },
 "nbformat": 4,
 "nbformat_minor": 2
}
