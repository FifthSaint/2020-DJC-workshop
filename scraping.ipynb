{
 "cells": [
  {
   "cell_type": "markdown",
   "metadata": {},
   "source": [
    "Created on 20 Oct 2020\n",
    "DJKC 워크숍용\n",
    "\n",
    "ㅇ과제: 포털 네이버에서 가장 많이 본 기사\n",
    "\n",
    "@author: Osung"
   ]
  },
  {
   "cell_type": "code",
   "execution_count": 1,
   "metadata": {},
   "outputs": [],
   "source": [
    "from selenium import webdriver\n",
    "from selenium.common.exceptions import UnexpectedAlertPresentException \n",
    "from selenium.webdriver.support.ui import WebDriverWait\n",
    "from bs4 import BeautifulSoup\n",
    "import pandas as pd\n",
    "import time\n",
    "import datetime as dt"
   ]
  },
  {
   "cell_type": "code",
   "execution_count": 2,
   "metadata": {},
   "outputs": [],
   "source": [
    "browser = webdriver.Chrome() #코딩으로 콘트롤 하는 웹브라우저"
   ]
  },
  {
   "cell_type": "code",
   "execution_count": 3,
   "metadata": {},
   "outputs": [],
   "source": [
    "# html 파싱 함수 정의 \n",
    "def parser(url):\n",
    "    try: \n",
    "        browser.get(url)\n",
    "    except UnexpectedAlertPresentException:  #될 때가 있고 안 될 때가 있음. 예외적인 경우를 위한 코드\n",
    "        print(\"alert\")\n",
    "        time.sleep(1)\n",
    "        alert = browser.switch_to.alert\n",
    "        time.sleep(1)\n",
    "        alert.accept()\n",
    "        time.sleep(1)\n",
    "        WebDriverWait(browser, 5)\n",
    "    HTML = browser.execute_script(\"return document.body.innerHTML\")\n",
    "    return BeautifulSoup(HTML, 'html.parser')"
   ]
  },
  {
   "cell_type": "code",
   "execution_count": 9,
   "metadata": {},
   "outputs": [],
   "source": [
    "# 파싱된 내용에서 필요한 부분 가져오는 함수\n",
    "def get_data(parsed):\n",
    "    heads = parsed.select('.ranking_headline')\n",
    "    \n",
    "    heads_txt = list()\n",
    "    for item in heads:\n",
    "        heads_txt.append(item.a.text.strip())\n",
    "    \n",
    "    links = list()\n",
    "    for item in heads:\n",
    "        links.append(item.a.attrs['href'])\n",
    "    \n",
    "    ledes = parsed.select('.ranking_lede')\n",
    "    ledes_txt = list()\n",
    "    for item in ledes:\n",
    "        ledes_txt.append(item.text.strip())\n",
    "        \n",
    "    offices = parsed.select('.ranking_office')\n",
    "    offices_txt = list()\n",
    "    for item in offices:\n",
    "        offices_txt.append(item.text.strip())\n",
    "        \n",
    "    views = parsed.select('.ranking_view')\n",
    "    views_num = list()\n",
    "    for item in views:\n",
    "        views_num.append(int(''.join(filter(str.isdigit,item.text.strip()))))\n",
    "\n",
    "    df = pd.DataFrame(columns = list(['제목', '링크', '리드', '언론사', '조회수']))\n",
    "    df = df.assign(제목=heads_txt, 링크=links, 리드=ledes_txt, 언론사= offices_txt, 조회수=views_num)\n",
    "    return df"
   ]
  },
  {
   "cell_type": "code",
   "execution_count": 10,
   "metadata": {},
   "outputs": [],
   "source": [
    "#사전 정의 변수\n",
    "sectionIDs = ('100', '101', '102', '103', '104', '105') #고정된 섹션값\n",
    "start_date = dt.date(2019, 1, 1) #크롤링 시작일\n",
    "r = 31 #몇일동안 할 것인가 범위"
   ]
  },
  {
   "cell_type": "markdown",
   "metadata": {},
   "source": [
    "현재 작업 중인 폴더 아래에 연도 폴더 먼저 만들어주기(깔끔한 저장용)"
   ]
  },
  {
   "cell_type": "code",
   "execution_count": 12,
   "metadata": {},
   "outputs": [],
   "source": [
    "#크롤링!\n",
    "for i in range(r):\n",
    "    date = start_date+dt.timedelta(days=i)\n",
    "    date_str = date.strftime(\"%Y%m%d\")\n",
    "    for sectionID in sectionIDs:\n",
    "        url = 'https://news.naver.com/main/ranking/popularDay.nhn?rankingType=popular_day&sectionId='\\\n",
    "            +sectionID+'&date='+date_str\n",
    "        parsed = parser(url)\n",
    "        df = get_data(parsed)\n",
    "        df.to_csv(date_str[:4]+'\\\\'+date_str+sectionID+\".csv\" ,encoding='utf-8-sig')"
   ]
  },
  {
   "cell_type": "code",
   "execution_count": null,
   "metadata": {},
   "outputs": [],
   "source": []
  }
 ],
 "metadata": {
  "kernelspec": {
   "display_name": "Python 3",
   "language": "python",
   "name": "python3"
  },
  "language_info": {
   "codemirror_mode": {
    "name": "ipython",
    "version": 3
   },
   "file_extension": ".py",
   "mimetype": "text/x-python",
   "name": "python",
   "nbconvert_exporter": "python",
   "pygments_lexer": "ipython3",
   "version": "3.7.5"
  }
 },
 "nbformat": 4,
 "nbformat_minor": 2
}
